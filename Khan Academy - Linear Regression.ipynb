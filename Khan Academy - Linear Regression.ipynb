{
 "metadata": {
  "name": "Khan Academy - Linear Regression"
 },
 "nbformat": 3,
 "nbformat_minor": 0,
 "worksheets": [
  {
   "cells": [
    {
     "cell_type": "code",
     "collapsed": false,
     "input": [
      "%pylab inline\n",
      "%load_ext sympyprinting\n",
      "from IPython.display import display, Math, Latex\n",
      "import matplotlib.pyplot as plt\n",
      "from sympy.printing.python import python\n",
      "from sympy.printing.latex import latex\n",
      "import sympy as sym\n",
      "import numpy as np"
     ],
     "language": "python",
     "metadata": {},
     "outputs": [
      {
       "output_type": "stream",
       "stream": "stdout",
       "text": [
        "\n",
        "Welcome to pylab, a matplotlib-based Python environment [backend: module://IPython.zmq.pylab.backend_inline].\n",
        "For more information, type 'help(pylab)'.\n"
       ]
      }
     ],
     "prompt_number": 58
    },
    {
     "cell_type": "markdown",
     "metadata": {},
     "source": [
      "#Linear Regression\n",
      "\n",
      "##Correlation and Causality\n",
      "\n",
      "##Squared Error of Regression Line\n",
      "\n",
      "$$\n",
      "m = slope\n",
      "$$\n",
      "\n",
      "$$\n",
      "x, y = 0, b\n",
      "$$\n",
      "\n",
      "$$\n",
      "y = mx + b\n",
      "$$\n",
      "\n",
      "b is the y intercept.\n",
      "\n",
      "Each point off of our estimated line has an \"error\". We want to minimize the squares of these errors.\n",
      "\n",
      "The Squared Error of the Line:\n",
      "$$\n",
      "\\begin{align*}\n",
      "SE_{line} =  (y_1 - (mx_1 + b))^2 + (y_2 - (mx_2 + b))^2 +\\cdots + (y_n - (mx_n + b))^2\n",
      "\\end{align*}\n",
      "$$\n",
      "\n"
     ]
    },
    {
     "cell_type": "markdown",
     "metadata": {},
     "source": [
      "## Proof (Part 1) Minimizing Squared Error to Regression Line\n",
      "https://www.khanacademy.org/math/probability/regression/regression-correlation/v/proof--part-1--minimizing-squared-error-to-regression-line\n",
      "\n",
      "$$\n",
      "\\begin{align*}\n",
      "SE_{line} &= y_1^{2} - 2y_1(mx_1 + b) + (mx_1 + b)^2 \\\\\\\\\n",
      "&+  y_2^{2} - 2y_2(mx_2 + b) + (mx_2+ b)^2 \\\\\\\\\n",
      "&\\vdots \\\\\\\n",
      "&+  y_n^{2} - 2y_n(mx_n + b) + (mx_n+ b)^2 \\\\\\\\\n",
      "\\end{align*}\n",
      "$$\n",
      "\n",
      "$$\n",
      "\\begin{align*}\n",
      "SE_{line} &= y_1^{2} - 2y_1mx_1 + 2y_1b + m^{2}x_1^{2} + 2mx_1b + b^2 \\\\\\\\\n",
      "&+  y_2^{2} - 2y_2mx_2 + 2y_2b + m^{2}x_2^{2} + 2mx_2b + b^2 \\\\\\\\\n",
      "&\\vdots \\\\\\\n",
      "&+  y_n^{2} - 2y_nmx_n + 2y_nb + m^{2}x_n^{2} + 2mx_nb + b^2 \\\\\\\\\n",
      "\\end{align*}\n",
      "$$\n",
      "\n",
      "\n",
      "$$\n",
      "\\begin{align*}\n",
      "SE_{line} &= (y_1^2 + y_2^2 + \\cdots + y_n^2)\\\\\\\\ \n",
      "&- 2m(x_1y_1 + x_2y_2 + \\cdots + x_ny_n)\\\\\\\\\n",
      "&- 2b(y_1 + y_2 + \\cdots + y_n) \\\\\\\\\n",
      "&+ m^2(x_1^2 + x_2^2 + \\cdots + x_n^2)\\\\\\\\\n",
      "&+ 2mb(x_1 + x_2 + \\cdots + x_n) \\\\\\\\\n",
      "&+ nb^2\n",
      "\\end{align*}\n",
      "$$\n"
     ]
    },
    {
     "cell_type": "markdown",
     "metadata": {},
     "source": [
      "## Proof Part 2 Minimizing Squared Error to Line\n",
      "https://www.khanacademy.org/math/probability/regression/regression-correlation/v/proof-part-2-minimizing-squared-error-to-line\n",
      "\n",
      "Remember $\\bar{x}$, the sample mean? Below, we find this is the mean of the of the values.\n",
      "\n",
      "$$\n",
      "\\frac{y_1^2 + y_2^2 + \\cdots + y_n^2} {n} = \\bar{y}^2\\\\\\\\\n",
      "y_1^2 + y_2^2 + \\cdots + y_n^2 = n\\bar{y}^2\n",
      "$$\n",
      "\n",
      "\n",
      "$$\n",
      "\\begin{align*}\n",
      "+ (y_1^2 + y_2^2 + \\cdots + y_n^2) = n\\bar{y}^2\\\\\\\\\n",
      "- 2m(x_1y_1 + x_2y_2 + \\cdots + x_ny_n) = n\\bar{xy}\\\\\\\\\n",
      "- 2b(y_1 + y_2 + \\cdots + y_n) = 2bn\\bar{y}\\\\\\\\\n",
      "+ m^2(x_1^2 + x_2^2 + \\cdots + x_n^2) = m^2n\\bar{x^2}\\\\\\\\\n",
      "+ 2mb(x_1 + x_2 + \\cdots + x_n) = 2mbn\\bar{x} \\\\\\\\\n",
      "\\end{align*}\n",
      "$$\n",
      "\n",
      "$$\n",
      "\\begin{align*}\n",
      "SE_{line} &= n\\bar{y}^2 - 2mn\\bar{xy} - 2bn\\bar{y} + m^2n\\bar{x^2} + 2mbn\\bar{x} + nb^2\n",
      "\\end{align*}\n",
      "$$\n",
      "\n",
      "Now, to minimize this expression.\n",
      "\n"
     ]
    },
    {
     "cell_type": "markdown",
     "metadata": {},
     "source": [
      "##Proof Part 3 Minimizing Squared Error to Line\n",
      "https://www.khanacademy.org/math/probability/regression/regression-correlation/v/proof--part-3--minimizing-squared-error-to-regression-line\n",
      "\n",
      "Find the partial deriviatives of this expression with respect to $m$ and $b$.\n",
      "\n",
      "$$\n",
      "\\begin{align*}\n",
      "SE_{line} &= n\\bar{y}^2 - 2mn\\bar{xy} - 2bn\\bar{y} + m^2n\\bar{x^2} + 2mbn\\bar{x} + nb^2\n",
      "\\end{align*}\n",
      "$$\n",
      "\n",
      "\n",
      "$$\n",
      "\\frac{{\\partial}{SE}} {\\partial{m}} = 0\\\\\\\\\n",
      "\\frac{{\\partial}{SE}} {\\partial{b}} = 0\n",
      "$$\n",
      "\n",
      "Partial derivative with respect to $m$.\n",
      "$$\n",
      "- 2n\\bar{xy} + 2n\\bar{x^2}m + 2bn\\bar{x} = 0\n",
      "$$\n",
      "\n",
      "Partial derivative with respect to $b$.\n",
      "$$\n",
      "- 2n\\bar{y} + 2mn\\bar{x} + 2bn = 0\n",
      "$$\n",
      "\n",
      "Divide the top equation by 2n:\n",
      "$$- \\bar{xy} + m\\bar{x^2} + b\\bar{x} = 0$$\n",
      "\n",
      "Divide the second equation by 2n:\n",
      "$$- \\bar{y} + m\\bar{x} + b = 0$$\n",
      "\n",
      "Add the mean of the x, y values to the top equation:\n",
      "$$\\bar{xy} - \\bar{xy} + m\\bar{x^2} + b\\bar{x} = 0 + \\bar{xy}\\\\\\\\\n",
      "m\\bar{x^2} + b\\bar{x} = \\bar{xy}$$\n",
      "\n",
      "Add the mean of y value to the bottom equation:\n",
      "$$\\bar{y} - \\bar{y} + m\\bar{x} + b = 0 + \\bar{y}\\\\\\\\\n",
      "m\\bar{x} + b = \\bar{y}\n",
      "$$\n",
      "\n",
      "The point at the mean of $x$ and the mean of $y$, $(\\bar{x}, \\bar{y})$, lies on the optimal line.\n",
      "\n",
      "We can also take the first equation one step further, dividing both sides by $\\bar{x}$:\n",
      "$$\\frac {m\\bar{x^2} + b\\bar{x}} {\\bar{x}} = \\frac{\\bar{xy}} {\\bar{x}} $$\n",
      "$$m\\frac{\\bar{x^2}}{\\bar{x}} + b = \\frac{\\bar{xy}} {\\bar{x}}$$\n",
      "\n",
      "Not only does  $(\\bar{x}, \\bar{y}) $  lie on the best-fitting line, but so does $(\\frac{\\bar{x^2}} {\\bar{x}}, \\frac{\\bar{xy}} {\\bar{x}})$."
     ]
    },
    {
     "cell_type": "markdown",
     "metadata": {},
     "source": [
      "\n",
      "$$\\begin{align*}\n",
      "m\\bar{x} + b &= \\bar{y}\\\\\\\n",
      "- m\\frac{\\bar{x^2}}{\\bar{x}} - b &= - \\frac{\\bar{xy}} {\\bar{x}}\\\\\\\\\n",
      "\\hline\\\\\\\\\n",
      "m(\\bar{x} - \\frac{\\bar{x^2}} {\\bar{x}}) &= \\bar{y} - \\frac{\\bar{xy}} {\\bar{x}}\n",
      "\\end{align*}\n",
      "$$\n",
      "\n",
      "##Proof (Part 4) Minimizing Squared Error to Regression Line\n",
      "https://www.khanacademy.org/math/probability/regression/regression-correlation/v/proof--part-4--minimizing-squared-error-to-regression-line\n",
      "\n",
      "Solve for $m$ :\n",
      "$$\\begin{align*}\n",
      "m = \\frac{\\bar{y} - \\frac{\\bar{xy}} {\\bar{x}}} {\\bar{x} - \\frac {\\bar{x^2}} {\\bar{x}}}\n",
      "\\end{align*}\n",
      "$$\n",
      "\n",
      "Multiply by $\\frac{(\\bar{x})} {(\\bar{x})}$\n",
      "\n",
      "$$\\begin{align*}\n",
      "m = \\frac{\\bar{y} - \\frac{\\bar{xy}} {\\bar{x}}} {\\bar{x} - \\frac {\\bar{x^2}} {\\bar{x}}} \\frac{(\\bar{x})} {(\\bar{x})} = \\frac {\\bar{x}\\bar{y} - \\bar{xy}} {(\\bar{x})^2 - \\bar{x^2}}\n",
      "\\end{align*}\n",
      "$$\n",
      "\n",
      "If we want to solve for $b$, we can substitute back $m\\bar{x} + b = \\bar{y}$ :\n",
      "\n",
      "$$\n",
      "b = \\bar{y} - m\\bar{x}\n",
      "$$\n"
     ]
    },
    {
     "cell_type": "markdown",
     "metadata": {},
     "source": [
      "## Two key formulas!!!!\n",
      "\n",
      "### Slope\n",
      "$$\\begin{align*}\n",
      "m = \\frac {\\bar{x}\\bar{y} - \\bar{xy}} {(\\bar{x})^2 - \\bar{x^2}}\n",
      "\\end{align*}\n",
      "$$\n",
      "\n",
      "### Y Intercept\n",
      "$$\n",
      "b = \\bar{y} - m\\bar{x}\n",
      "$$"
     ]
    },
    {
     "cell_type": "markdown",
     "metadata": {},
     "source": [
      "## Practice\n",
      "\n",
      "Take three points: (1, 2), (2, 1), and (4, 3), find best fitting regression line."
     ]
    },
    {
     "cell_type": "code",
     "collapsed": false,
     "input": [
      "x = np.array([1,2,4])\n",
      "y = np.array([2,1,3])\n",
      "# Lets make a nice chart!\n",
      "plt.figure()\n",
      "ax1 = plt.axes(frameon=True)\n",
      "ax1.get_xaxis().tick_bottom()\n",
      "ax1.get_yaxis().tick_left()\n",
      "plt.axis([0, 4.5, 0, 4.5])\n",
      "plt.plot(x, y, 'ro')\n",
      "#plt.plot(x, y, 'rx')\n",
      "plt.xlabel('x')\n",
      "plt.ylabel('y')\n",
      "plt.show()"
     ],
     "language": "python",
     "metadata": {},
     "outputs": [
      {
       "output_type": "display_data",
       "png": "[encoded data removed]"
      }
     ],
     "prompt_number": 34
    },
    {
     "cell_type": "code",
     "collapsed": false,
     "input": [
      "mean_x = np.mean(x)\n",
      "mean_y = np.mean(y)\n",
      "mean_xy = np.mean(x*y)\n",
      "print mean_x, mean_y, mean_xy"
     ],
     "language": "python",
     "metadata": {},
     "outputs": [
      {
       "output_type": "stream",
       "stream": "stdout",
       "text": [
        "2.33333333333 2.0 5.33333333333\n"
       ]
      }
     ],
     "prompt_number": 17
    },
    {
     "cell_type": "markdown",
     "metadata": {},
     "source": [
      "### Calculate the Slope\n",
      "$$\\begin{align*}\n",
      "m = \\frac {\\bar{x}\\bar{y} - \\bar{xy}} {(\\bar{x})^2 - \\bar{x^2}}\n",
      "\\end{align*}\n",
      "$$"
     ]
    },
    {
     "cell_type": "code",
     "collapsed": false,
     "input": [
      "m = (np.mean(x) * np.mean(y) - np.mean(x*y)) / (np.mean(x)**2 - np.mean(x**2))\n",
      "print 'm = %f' % m"
     ],
     "language": "python",
     "metadata": {},
     "outputs": [
      {
       "output_type": "stream",
       "stream": "stdout",
       "text": [
        "m = 0.428571\n"
       ]
      }
     ],
     "prompt_number": 24
    },
    {
     "cell_type": "markdown",
     "metadata": {},
     "source": [
      "###Calculate the Y-intercept\n",
      "$$\n",
      "b = \\bar{y} - m\\bar{x}\n",
      "$$"
     ]
    },
    {
     "cell_type": "code",
     "collapsed": false,
     "input": [
      "b = np.mean(y) - m * np.mean(x)\n",
      "print 'b = %f' % b"
     ],
     "language": "python",
     "metadata": {},
     "outputs": [
      {
       "output_type": "stream",
       "stream": "stdout",
       "text": [
        "b = 1.000000\n"
       ]
      }
     ],
     "prompt_number": 32
    },
    {
     "cell_type": "markdown",
     "metadata": {},
     "source": [
      "##Regression Line Example \n",
      "https://www.khanacademy.org/math/probability/regression/regression-correlation/v/regression-line-example"
     ]
    },
    {
     "cell_type": "code",
     "collapsed": false,
     "input": [
      "x = np.array([1,2,4])\n",
      "y = np.array([2,1,3])\n",
      "m = (np.mean(x) * np.mean(y) - np.mean(x*y)) / (np.mean(x)**2 - np.mean(x**2))\n",
      "b = np.mean(y) - m * np.mean(x)\n",
      "# Lets make a nice chart!\n",
      "plt.figure()\n",
      "ax1 = plt.axes(frameon=True)\n",
      "ax1.get_xaxis().tick_bottom()\n",
      "ax1.get_yaxis().tick_left()\n",
      "plt.axis([0, 4.5, 0, 4.5])\n",
      "plt.plot(x, y, 'ro')\n",
      "t = np.arange(x[0] - x[-1])\n",
      "# y = b + m * x\n",
      "plt.plot([0, 10], [b, (b + m * 10)], 'g')\n",
      "#plt.plot(x, y, 'rx')\n",
      "plt.xlabel('x')\n",
      "plt.ylabel('y')\n",
      "plt.show()"
     ],
     "language": "python",
     "metadata": {},
     "outputs": [
      {
       "output_type": "display_data",
       "png": "[encoded data removed]"
      }
     ],
     "prompt_number": 56
    },
    {
     "cell_type": "markdown",
     "metadata": {},
     "source": [
      "## Second Regression Example \n",
      "https://www.khanacademy.org/math/probability/regression/regression-correlation/v/second-regression-example"
     ]
    },
    {
     "cell_type": "code",
     "collapsed": false,
     "input": [
      "x = np.array([-2, -1, 1, 4])\n",
      "y = np.array([-3, -1, 2, 3])\n",
      "m = (np.mean(x) * np.mean(y) - np.mean(x*y)) / (np.mean(x)**2 - np.mean(x**2))\n",
      "b = np.mean(y) - m * np.mean(x)\n",
      "plt.figure()\n",
      "ax1 = plt.axes(frameon=True)\n",
      "ax1.get_xaxis().tick_bottom()\n",
      "ax1.get_yaxis().tick_left()\n",
      "plt.axis([-4.5, 4.5, -4.5, 4.5])\n",
      "plt.plot(x, y, 'ro')\n",
      "t = np.arange(x[0] - x[-1])\n",
      "# y = b + m * x\n",
      "plt.plot([-10, 0, 10], [(b + m * -10), b, (b + m * 10)], 'g')\n",
      "#plt.plot(x, y, 'rx')\n",
      "plt.xlabel('x')\n",
      "plt.ylabel('y')\n",
      "plt.title('m = %f, b = %f' % (m, b))\n",
      "plt.show()"
     ],
     "language": "python",
     "metadata": {},
     "outputs": [
      {
       "output_type": "display_data",
       "png": "[encoded data removed]"
      }
     ],
     "prompt_number": 38
    },
    {
     "cell_type": "markdown",
     "metadata": {},
     "source": [
      "\n"
     ]
    },
    {
     "cell_type": "markdown",
     "metadata": {},
     "source": [
      "## R-Squared or Coefficient of Determination\n",
      "https://www.khanacademy.org/math/probability/regression/regression-correlation/v/r-squared-or-coefficient-of-determination\n",
      "\n",
      "If we have n points with x and y coordinates. $(x_1, y_1)\\cdots(x_n, y_n)$ .\n",
      "\n",
      "$$\n",
      "\\begin{align*}\n",
      "SE_{line} =  (y_1 - (mx_1 + b))^2 + (y_2 - (mx_2 + b))^2 +\\cdots + (y_n - (mx_n + b))^2\n",
      "\\end{align*}\n",
      "$$\n",
      "\n",
      "Now we can calculate the error.\n",
      "\n",
      "Now we want to come up with an estimate of how well the line fits the data. \n",
      "\n",
      "How much (what percentage) of the variation in $y$ is described by the variation in $x$ (or described by the line)?\n",
      "\n",
      "Start by find the total variation of $y$.\n",
      "\n",
      "\n",
      "total vairation in $y$ :\n",
      "$$\n",
      "\\begin{align*}\n",
      "(y_1 - \\bar{y})^2 + (y_2 - \\bar{y})^2 + \\cdots + (y_n - \\bar{y})^2 = SE_\\bar{y}\n",
      "\\end{align*}\n",
      "$$\n",
      "\n",
      "If you divide by $n$, you will get what we associate as the \"variance of $y$\".\n",
      "\n",
      "How much of the total variation is not described by the regression line? We have a measure of that, the squared error of the line, $SE_{line}$ .\n",
      "$$\n",
      "\\begin{align*}\n",
      "\\frac {SE_{line}} {SE_\\bar{y}}\n",
      "\\end{align*}\n",
      "$$\n",
      "\n",
      "What percentage of total variation is described by the line?\n",
      "$$\n",
      "\\begin{align*}\n",
      "r^2 = 1 - \\frac {SE_{line}} {SE_\\bar{y}}\n",
      "\\end{align*}\n",
      "$$\n",
      "aka: Coeffecient of Determination, or R-squared\n",
      "\n",
      "If $SE_{line}$ is small, it tells us that the line is a good fit. If the $SE_{line}$ is large, $r^2$ will be close to zero."
     ]
    },
    {
     "cell_type": "markdown",
     "metadata": {},
     "source": [
      "##Calculating R-Squared\n",
      "https://www.khanacademy.org/math/probability/regression/regression-correlation/v/calculating-r-squared\n",
      "\n",
      "For each of our points, we want to find the predicted $y$ based on each $x$ for our calculated line that minimizes the squared distance."
     ]
    },
    {
     "cell_type": "code",
     "collapsed": false,
     "input": [
      "m = (np.mean(x) * np.mean(y) - np.mean(x*y)) / (np.mean(x)**2 - np.mean(x**2))\n",
      "b = np.mean(y) - m * np.mean(x)\n",
      "se_line = 0\n",
      "se_mean_y = 0\n",
      "print m, b\n",
      "for i, a in enumerate(x):\n",
      "    y_star = m * a + b\n",
      "    se_w_line = (y[i] - y_star)**2\n",
      "    se_line += se_w_line\n",
      "    sqrd_distance_y_mean = (y[i] - np.mean(y))**2\n",
      "    se_mean_y += sqrd_distance_y_mean\n",
      "    print a, y[i], y_star, se_w_line, sqrd_distance_y_mean\n",
      "    \n",
      "print se_line\n",
      "print se_mean_y"
     ],
     "language": "python",
     "metadata": {},
     "outputs": [
      {
       "output_type": "stream",
       "stream": "stdout",
       "text": [
        "0.97619047619 -0.238095238095\n",
        "-2 -3 -2.19047619048 0.655328798186 10.5625\n",
        "-1 -1 -1.21428571429 0.0459183673469 1.5625\n",
        "1 2 0.738095238095 1.59240362812 3.0625\n",
        "4 3 3.66666666667 0.444444444444 7.5625\n",
        "2.7380952381\n",
        "22.75\n"
       ]
      }
     ],
     "prompt_number": 33
    },
    {
     "cell_type": "markdown",
     "metadata": {},
     "source": [
      "If we want to know the percentage of the total variation, not explained by the variation in x, we divide the total standard error with regard to the line by the total distance from the mean."
     ]
    },
    {
     "cell_type": "code",
     "collapsed": false,
     "input": [
      "se_line / se_mean_y"
     ],
     "language": "python",
     "metadata": {},
     "outputs": [
      {
       "output_type": "pyout",
       "prompt_number": 34,
       "text": [
        "0.12035583464154893"
       ]
      }
     ],
     "prompt_number": 34
    },
    {
     "cell_type": "markdown",
     "metadata": {},
     "source": [
      "$r^2 = 1 - \\frac {SE_{line}} {SE_\\bar{y}}$"
     ]
    },
    {
     "cell_type": "code",
     "collapsed": false,
     "input": [
      "r_sqr = 1 - se_line / se_mean_y\n",
      "print r_sqr"
     ],
     "language": "python",
     "metadata": {},
     "outputs": [
      {
       "output_type": "stream",
       "stream": "stdout",
       "text": [
        "0.879644165358\n"
       ]
      }
     ],
     "prompt_number": 36
    },
    {
     "cell_type": "markdown",
     "metadata": {},
     "source": [
      "88% of the variation in these $y$ values is explained by the line, or the variation in $x$. All of the points are closer to our actual line (green) than to the mean (blue)."
     ]
    },
    {
     "cell_type": "code",
     "collapsed": false,
     "input": [
      "plt.figure()\n",
      "ax1 = plt.axes(frameon=True)\n",
      "ax1.get_xaxis().tick_bottom()\n",
      "ax1.get_yaxis().tick_left()\n",
      "plt.axis([-4.5, 4.5, -4.5, 4.5])\n",
      "plt.plot(x, y, 'ro')\n",
      "t = np.arange(x[0] - x[-1])\n",
      "# y = b + m * x\n",
      "plt.plot([-10, 0, 10], [(b + m * -10), b, (b + m * 10)], 'g')\n",
      "#plt.plot(x, y, 'rx')\n",
      "plt.plot([-10, 10], [np.mean(y), np.mean(y)], 'b')\n",
      "plt.xlabel('x')\n",
      "plt.ylabel('y')\n",
      "plt.title('m = %f, b = %f' % (m, b))\n",
      "plt.show()"
     ],
     "language": "python",
     "metadata": {},
     "outputs": [
      {
       "output_type": "display_data",
       "png": "[encoded data removed]"
      }
     ],
     "prompt_number": 47
    },
    {
     "cell_type": "markdown",
     "metadata": {},
     "source": [
      "## Covariance and the Regression Line\n",
      "https://www.khanacademy.org/math/probability/regression/regression-correlation/v/covariance-and-the-regression-line\n",
      "\n",
      "The covariance between two random variables, the product of the distance of each variable from their mean.\n",
      "\n",
      "$E$ signifies the expected value.\n",
      "\n",
      "$$Cov(x, y) = E[(x - E[x])(y - e[y])]$$\n",
      "\n",
      "Lets say we have one sample of $(x, y)$ . \n",
      "\n",
      "$x = 1$ , $E[x] = 0$ , $y = 3$ , $E[y] = 4$\n",
      "\n",
      "$$Cov(x, y) = -1$$\n",
      "\n",
      "This tells us that for this one random sample, $x$ was above its expected value while $y$ was below its expected value.\n",
      "\n",
      "We want to connect the covariance formula with the other math above.\n",
      "\n",
      "$E[E[x]] = E[x]$\n",
      "That is, expected value of the expected value simply equals the expected value.\n",
      "\n",
      "$$\n",
      "\\begin{align*}\n",
      "Cov(x, y) &= E[(x - E[x])(y - e[y])]\\\\\\\\\n",
      "&= E[xy - xE[y] - E[x]y + E[x]E[y]]\\\\\\\\\n",
      "&= E[xy] - E[xE[y]] - E[E[x]y] + E[E[x]E[y]]\\\\\\\\\n",
      "&= E[xy] - E[y]E[x] - E[x]E[y] + E[x]E[y]\\\\\\\\\n",
      "&= E[xy] - E[y]E[x]\n",
      "\\end{align*}\n",
      "$$\n",
      "\n",
      "$$\\begin{align*}\n",
      "E[xy] &\\approx \\bar{xy}\\\\\\\\\n",
      "E[x] &\\approx \\bar{x}\\\\\\\\\n",
      "E[y] &\\approx \\bar{y}\n",
      "\\end{align*}\n",
      "$$\n",
      "\n",
      "$$\n",
      "\\begin{align*}\n",
      "Cov(x, y) &= E[(x - E[x])(y - e[y])]\\\\\\\\\n",
      "&\\vdots \\\\\\\\\n",
      "&= E[xy] - E[y]E[x]\\\\\\\\\n",
      "&\\approx \\bar{xy} - \\bar{y}\\bar{x}\n",
      "\\end{align*}\n",
      "$$\n",
      "\n",
      "$$\n",
      "\\begin{align*}\n",
      "Cov(x, x) &\\approx \\bar{x^2} - (\\bar{x})^2\\\\\\\\\n",
      "&= \\bar{xx} - \\bar{x}\\bar{x}\\\\\\\\\n",
      "&= Var(x)\n",
      "\\end{align*}\n",
      "$$\n",
      "\n",
      "$\\hat{m}$ is the approximate slope. \n",
      "$$\n",
      "\\begin{align*}\n",
      "\\hat{m} &= \\frac {\\bar{xy} - \\bar{y}\\bar{x}} {\\bar{x^2} - (\\bar{x})^2}\\\\\\\\\n",
      "&= \\frac {Cov(x, y)} {Var(x)}\n",
      "\\end{align*}\n",
      "$$"
     ]
    },
    {
     "cell_type": "code",
     "collapsed": false,
     "input": [],
     "language": "python",
     "metadata": {},
     "outputs": []
    }
   ],
   "metadata": {}
  }
 ]
}