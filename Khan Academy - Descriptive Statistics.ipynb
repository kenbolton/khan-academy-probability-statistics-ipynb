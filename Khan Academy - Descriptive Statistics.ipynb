{
 "metadata": {
  "name": "Khan Academy - Descriptive Statistics"
 },
 "nbformat": 3,
 "nbformat_minor": 0,
 "worksheets": [
  {
   "cells": [
    {
     "cell_type": "markdown",
     "metadata": {},
     "source": [
      "#Khan Academy: Descriptive statistics\n",
      "https://www.khanacademy.org/math/probability/descriptive-statistics"
     ]
    },
    {
     "cell_type": "code",
     "collapsed": false,
     "input": [
      "%pylab inline\n",
      "%load_ext sympyprinting"
     ],
     "language": "python",
     "metadata": {},
     "outputs": [
      {
       "output_type": "stream",
       "stream": "stdout",
       "text": [
        "\n",
        "Welcome to pylab, a matplotlib-based Python environment [backend: module://IPython.zmq.pylab.backend_inline].\n",
        "For more information, type 'help(pylab)'.\n"
       ]
      }
     ],
     "prompt_number": 237
    },
    {
     "cell_type": "markdown",
     "metadata": {},
     "source": [
      "##Statistics Intro: mean, median, and mode\n",
      "https://www.khanacademy.org/math/probability/descriptive-statistics/central_tendency/v/statistics-intro--mean--median-and-mode\n",
      "\n",
      "statistics deals with data\n",
      "\n",
      "descriptive statistics: can we somehow describe it with a smaller set of number\n",
      "\n",
      "inferential statistics: start to make ideas about the data\n"
     ]
    },
    {
     "cell_type": "code",
     "collapsed": false,
     "input": [
      "import numpy as np"
     ],
     "language": "python",
     "metadata": {},
     "outputs": [],
     "prompt_number": 238
    },
    {
     "cell_type": "markdown",
     "metadata": {},
     "source": [
      "How can we describe data?\n",
      "\n",
      "Se have a set of numbers, e.g. height of plants in garden in inches:"
     ]
    },
    {
     "cell_type": "code",
     "collapsed": false,
     "input": [
      "a = np.array([23, 29, 20, 32, 23, 21, 33, 25])\n",
      "print a.sum()\n",
      "a.size"
     ],
     "language": "python",
     "metadata": {},
     "outputs": [
      {
       "output_type": "stream",
       "stream": "stdout",
       "text": [
        "206\n"
       ]
      },
      {
       "output_type": "pyout",
       "png": "[encoded data removed]",
       "prompt_number": 239,
       "text": [
        "8"
       ]
      }
     ],
     "prompt_number": 239
    },
    {
     "cell_type": "markdown",
     "metadata": {},
     "source": [
      "\n",
      "Average - \"typical\" or \"middle\" => central tendency\n",
      "\n",
      "somehow represent the \"center\" of the numbers in the set.\n",
      "\n",
      "\n",
      "Arithmetic Mean - sum of all numbers divided by the number (count) of numbers.\n",
      "\n",
      "(4 + 3 + 1 + 6 + 1 + 7) / 6 == 22 / 6 == 3 (4 / 6) = 3 (2 / 3) = 3.6\n",
      "\n",
      "\n"
     ]
    },
    {
     "cell_type": "code",
     "collapsed": false,
     "input": [
      "mean = a.sum(dtype=float) / a.size\n",
      "print mean\n",
      "print np.mean(a)\n",
      "assert mean == np.mean(a)"
     ],
     "language": "python",
     "metadata": {},
     "outputs": [
      {
       "output_type": "stream",
       "stream": "stdout",
       "text": [
        "25.75\n",
        "25.75\n"
       ]
      }
     ],
     "prompt_number": 243
    },
    {
     "cell_type": "markdown",
     "metadata": {},
     "source": [
      "Median - middle number. if you have an even number of numbers, you take the Arithmetic Mean of the two middle numbers.\n",
      "\n",
      "[4, 3, 1, 6, 1, 7] => [1, 1, 3, 4, 6, 7] => 3.5\n",
      "0 7 50 10,000, 1,000,000 => 50"
     ]
    },
    {
     "cell_type": "code",
     "collapsed": false,
     "input": [
      "print a.sort()\n",
      "print np.median(a)"
     ],
     "language": "python",
     "metadata": {},
     "outputs": [
      {
       "output_type": "stream",
       "stream": "stdout",
       "text": [
        "24.0\n"
       ]
      }
     ],
     "prompt_number": 39
    },
    {
     "cell_type": "markdown",
     "metadata": {},
     "source": [
      "Mode - Most common number in the data set.\n",
      "\n",
      "[4, 3, 1, 6, 1, 7] => 1"
     ]
    },
    {
     "cell_type": "code",
     "collapsed": false,
     "input": [
      "np.bincount(a).argmax()\n",
      "np.angle("
     ],
     "language": "python",
     "metadata": {},
     "outputs": [
      {
       "output_type": "pyout",
       "prompt_number": 50,
       "text": [
        "23"
       ]
      }
     ],
     "prompt_number": 50
    },
    {
     "cell_type": "code",
     "collapsed": false,
     "input": [
      "c = np.array([3, 2, 7, 9, 5, 1, 2])\n",
      "print np.median(c)"
     ],
     "language": "python",
     "metadata": {},
     "outputs": [
      {
       "output_type": "stream",
       "stream": "stdout",
       "text": [
        "3.0\n"
       ]
      }
     ],
     "prompt_number": 52
    },
    {
     "cell_type": "code",
     "collapsed": false,
     "input": [
      "c = np.array([5, 6, 6, 2, 9])\n",
      "print np.mean(c)"
     ],
     "language": "python",
     "metadata": {},
     "outputs": [
      {
       "output_type": "stream",
       "stream": "stdout",
       "text": [
        "5.6\n"
       ]
      }
     ],
     "prompt_number": 53
    },
    {
     "cell_type": "code",
     "collapsed": false,
     "input": [
      "c = np.array([2, 5, 10, 9, 2, 9, 4, 9])\n",
      "np.bincount(c).argmax()"
     ],
     "language": "python",
     "metadata": {},
     "outputs": [
      {
       "output_type": "pyout",
       "prompt_number": 54,
       "text": [
        "9"
       ]
      }
     ],
     "prompt_number": 54
    },
    {
     "cell_type": "code",
     "collapsed": false,
     "input": [
      "c = np.array([9, 7, 6, 6, 6, 8, 8, 4, 6, 2])\n",
      "print np.mean(c)"
     ],
     "language": "python",
     "metadata": {},
     "outputs": [
      {
       "output_type": "stream",
       "stream": "stdout",
       "text": [
        "6.2\n"
       ]
      }
     ],
     "prompt_number": 56
    },
    {
     "cell_type": "code",
     "collapsed": false,
     "input": [
      "c = np.array([10, 3, 2, 5, 1, 8, 1, 9, 7])\n",
      "print np.median(c)"
     ],
     "language": "python",
     "metadata": {},
     "outputs": [
      {
       "output_type": "stream",
       "stream": "stdout",
       "text": [
        "5.0\n"
       ]
      }
     ],
     "prompt_number": 57
    },
    {
     "cell_type": "code",
     "collapsed": false,
     "input": [
      "c = np.array([8, 6, 5, 9, 10, 1, 2, 4, 10])\n",
      "np.mean(c)"
     ],
     "language": "python",
     "metadata": {},
     "outputs": [
      {
       "output_type": "pyout",
       "prompt_number": 58,
       "text": [
        "6.1111111111111107"
       ]
      }
     ],
     "prompt_number": 58
    },
    {
     "cell_type": "code",
     "collapsed": false,
     "input": [
      "c = np.array([6, 2, 2, 5, 1, 2, 8, 8])\n",
      "np.bincount(c).argmax()"
     ],
     "language": "python",
     "metadata": {},
     "outputs": [
      {
       "output_type": "pyout",
       "prompt_number": 59,
       "text": [
        "2"
       ]
      }
     ],
     "prompt_number": 59
    },
    {
     "cell_type": "code",
     "collapsed": false,
     "input": [
      "c = np.array([4, 7, 1, 9, 8, 6, 1])\n",
      "np.median(c)"
     ],
     "language": "python",
     "metadata": {},
     "outputs": [
      {
       "output_type": "pyout",
       "prompt_number": 60,
       "text": [
        "6.0"
       ]
      }
     ],
     "prompt_number": 60
    },
    {
     "cell_type": "code",
     "collapsed": false,
     "input": [
      "b = (81 + 81 + 81 + 81 + 91) / 5"
     ],
     "language": "python",
     "metadata": {},
     "outputs": [],
     "prompt_number": 76
    },
    {
     "cell_type": "code",
     "collapsed": false,
     "input": [
      "b"
     ],
     "language": "python",
     "metadata": {},
     "outputs": [
      {
       "output_type": "pyout",
       "prompt_number": 77,
       "text": [
        "83"
       ]
      }
     ],
     "prompt_number": 77
    },
    {
     "cell_type": "code",
     "collapsed": false,
     "input": [
      "c = np.array([85, 77, 94, 88, 91])\n",
      "np.mean(c)"
     ],
     "language": "python",
     "metadata": {},
     "outputs": [
      {
       "output_type": "pyout",
       "prompt_number": 78,
       "text": [
        "87.0"
       ]
      }
     ],
     "prompt_number": 78
    },
    {
     "cell_type": "code",
     "collapsed": false,
     "input": [
      "c = np.array([82, 82, 82, 82, 100, 100])\n",
      "np.mean(c)"
     ],
     "language": "python",
     "metadata": {},
     "outputs": [
      {
       "output_type": "pyout",
       "prompt_number": 79,
       "text": [
        "88.0"
       ]
      }
     ],
     "prompt_number": 79
    },
    {
     "cell_type": "code",
     "collapsed": false,
     "input": [
      "c = np.array([83, 98, 80, 81, 91, 95])\n",
      "np.mean(c)"
     ],
     "language": "python",
     "metadata": {},
     "outputs": [
      {
       "output_type": "pyout",
       "prompt_number": 80,
       "text": [
        "88.0"
       ]
      }
     ],
     "prompt_number": 80
    },
    {
     "cell_type": "code",
     "collapsed": false,
     "input": [
      "c = np.array([82, 82, 82, 90])\n",
      "np.mean(c)"
     ],
     "language": "python",
     "metadata": {},
     "outputs": [
      {
       "output_type": "pyout",
       "prompt_number": 81,
       "text": [
        "84.0"
       ]
      }
     ],
     "prompt_number": 81
    },
    {
     "cell_type": "code",
     "collapsed": false,
     "input": [
      "c = np.array([92, 88, 86, 95, 97, 76])\n",
      "np.mean(c)"
     ],
     "language": "python",
     "metadata": {},
     "outputs": [
      {
       "output_type": "pyout",
       "prompt_number": 82,
       "text": [
        "89.0"
       ]
      }
     ],
     "prompt_number": 82
    },
    {
     "cell_type": "code",
     "collapsed": false,
     "input": [
      "c = np.array([85, 85, 85, 100, 100])\n",
      "np.mean(c)"
     ],
     "language": "python",
     "metadata": {},
     "outputs": [
      {
       "output_type": "pyout",
       "prompt_number": 83,
       "text": [
        "91.0"
       ]
      }
     ],
     "prompt_number": 83
    },
    {
     "cell_type": "code",
     "collapsed": false,
     "input": [
      "c = np.array([84, 84, 84, 96])\n",
      "np.mean(c)"
     ],
     "language": "python",
     "metadata": {},
     "outputs": [
      {
       "output_type": "pyout",
       "prompt_number": 89,
       "text": [
        "87.0"
       ]
      }
     ],
     "prompt_number": 89
    },
    {
     "cell_type": "markdown",
     "metadata": {},
     "source": [
      "#Reading Box-and-Whisker Plots\n",
      "https://www.khanacademy.org/math/probability/descriptive-statistics/Box-and-whisker%20plots/v/reading-box-and-whisker-plots\n",
      "\n",
      "##Constructing a box-and-whisker plot"
     ]
    },
    {
     "cell_type": "code",
     "collapsed": false,
     "input": [
      "d = np.array([14, 6, 3, 2, 4, 15, 11, 8, 1, 7, 2, 1, 3, 4, 10, 22, 20], dtype=float)\n",
      "boxplot(d, vert=False, )"
     ],
     "language": "python",
     "metadata": {},
     "outputs": [
      {
       "output_type": "pyout",
       "prompt_number": 103,
       "text": [
        "{'boxes': [<matplotlib.lines.Line2D at 0x10e57ef50>],\n",
        " 'caps': [<matplotlib.lines.Line2D at 0x10e587350>,\n",
        "  <matplotlib.lines.Line2D at 0x10e501f90>],\n",
        " 'fliers': [<matplotlib.lines.Line2D at 0x10e583650>,\n",
        "  <matplotlib.lines.Line2D at 0x10e583fd0>],\n",
        " 'medians': [<matplotlib.lines.Line2D at 0x10e57ed50>],\n",
        " 'whiskers': [<matplotlib.lines.Line2D at 0x10e587090>,\n",
        "  <matplotlib.lines.Line2D at 0x10e587d50>]}"
       ]
      },
      {
       "output_type": "display_data",
       "png": "[encoded data removed]"
      }
     ],
     "prompt_number": 103
    },
    {
     "cell_type": "code",
     "collapsed": false,
     "input": [
      "d = np.array([3, 5, 6, 6, 7, 7, 7, 7, 7, 8, 8, 9, 9, 10, 11], dtype=float)\n",
      "boxplot(d, vert=False)"
     ],
     "language": "python",
     "metadata": {},
     "outputs": [
      {
       "output_type": "pyout",
       "prompt_number": 104,
       "text": [
        "{'boxes': [<matplotlib.lines.Line2D at 0x10e6bd2d0>],\n",
        " 'caps': [<matplotlib.lines.Line2D at 0x10e6b7890>,\n",
        "  <matplotlib.lines.Line2D at 0x10e6b7d90>],\n",
        " 'fliers': [<matplotlib.lines.Line2D at 0x10e6bdcd0>,\n",
        "  <matplotlib.lines.Line2D at 0x10e6bf490>],\n",
        " 'medians': [<matplotlib.lines.Line2D at 0x10e6bd7d0>],\n",
        " 'whiskers': [<matplotlib.lines.Line2D at 0x10e6b70d0>,\n",
        "  <matplotlib.lines.Line2D at 0x10e6b7310>]}"
       ]
      },
      {
       "output_type": "display_data",
       "png": "[encoded data removed]"
      }
     ],
     "prompt_number": 104
    },
    {
     "cell_type": "markdown",
     "metadata": {},
     "source": [
      "##Variance of population\n",
      "https://www.khanacademy.org/math/probability/descriptive-statistics/variance_std_deviation/v/variance-of-a-population\n",
      "\n",
      "Variance as a measure of average, how far the data points in a population are from the population mean. 'N' is the total population.\n",
      "\n",
      "$$\n",
      "\\begin{align*}\n",
      "mean = \\mu = \\frac{\\displaystyle\\sum_{i=1}^{N} x^2} {N} = \\\\\n",
      "\\frac{x_1 + x_2 + x_3 + x_4 + x_5} 5 \n",
      "\\end{align*}\n",
      "$$"
     ]
    },
    {
     "cell_type": "code",
     "collapsed": false,
     "input": [
      "sample = [1, 3, 5, 7, 14]\n",
      "population_mean = sum(sample)/len(sample)\n",
      "print population_mean"
     ],
     "language": "python",
     "metadata": {},
     "outputs": [
      {
       "output_type": "stream",
       "stream": "stdout",
       "text": [
        "6\n"
       ]
      }
     ],
     "prompt_number": 235
    },
    {
     "cell_type": "markdown",
     "metadata": {},
     "source": [
      "variance $\\begin{align*}= \\sigma^2 = \\frac{\\displaystyle\\sum_{i=1}^{N} (x_i - \\mu)^2} {N}\n",
      "\\end{align*}$\n",
      "\n",
      "$\\mu =$ population mean"
     ]
    },
    {
     "cell_type": "code",
     "collapsed": false,
     "input": [
      "def population_variance(population):\n",
      "    mean = np.mean(population)\n",
      "    pv = sum([(float(i) - mean)**2 for i in population]) / len(population)\n",
      "    return pv\n",
      "population_variance(sample)"
     ],
     "language": "python",
     "metadata": {},
     "outputs": [
      {
       "output_type": "pyout",
       "png": "[encoded data removed]",
       "prompt_number": 236,
       "text": [
        "20.0"
       ]
      }
     ],
     "prompt_number": 236
    },
    {
     "cell_type": "markdown",
     "metadata": {},
     "source": [
      "## Sample Variance\n",
      "https://www.khanacademy.org/math/probability/descriptive-statistics/variance_std_deviation/v/sample-variance\n",
      "\n",
      "### TV Watching\n",
      "Population of TV watchers ~300m (&mu;)\n",
      "Take a sample.\n",
      "What is the sample mean?\n",
      "\n",
      "$$\n",
      "mean = {\\bar x} = \\frac{\\displaystyle\\sum_{i=1}^{n} x_i} {n}\n",
      "$$"
     ]
    },
    {
     "cell_type": "code",
     "collapsed": false,
     "input": [
      "# Hours of television\n",
      "sample = [1.5, 4, 1, 2.5, 2, 1]\n",
      "print 'mean: %s' % np.mean(sample)\n",
      "print 'variance: %s' % population_variance(sample)"
     ],
     "language": "python",
     "metadata": {},
     "outputs": [
      {
       "output_type": "stream",
       "stream": "stdout",
       "text": [
        "mean: 2.0\n",
        "variance: 1.08333333333\n"
       ]
      }
     ],
     "prompt_number": 246
    },
    {
     "cell_type": "markdown",
     "metadata": {},
     "source": [
      "Is this variance the best estimate we can make given the data we have?\n",
      "\n",
      "$$\n",
      "s^2_n =  \\frac{\\displaystyle\\sum_{i=1}^{n} (x_i - {\\bar x})^2} {n}\n",
      "$$\n",
      "\n",
      "Unbiased sample variance:\n",
      "\n",
      "$$\n",
      "s^2 = s^2_{n-1} = \\frac{\\displaystyle\\sum_{i=1}^{n} (x_i - {\\bar x})^2} {n-1}\n",
      "$$"
     ]
    },
    {
     "cell_type": "code",
     "collapsed": false,
     "input": [
      "def unbiased_variance(sample):\n",
      "    mean = np.mean(sample)\n",
      "    pv = sum([(float(i) - mean)**2 for i in sample]) / (len(sample) - 1)\n",
      "    return pv\n",
      "print 'sample variance: %s' % unbiased_variance(sample)"
     ],
     "language": "python",
     "metadata": {},
     "outputs": [
      {
       "output_type": "stream",
       "stream": "stdout",
       "text": [
        "sample variance: 1.3\n"
       ]
      }
     ],
     "prompt_number": 247
    },
    {
     "cell_type": "markdown",
     "metadata": {},
     "source": [
      "## Review and intuition why we divide by n-1 for the unbiaed sample variance\n",
      "https://www.khanacademy.org/math/probability/descriptive-statistics/variance_std_deviation/v/review-and-intuition-why-we-divide-by-n-1-for-the-unbiased-sample-variance\n",
      "\n",
      "N = Total Population\n",
      "\n",
      "n = Sample population\n",
      "\n",
      "Population Mean (parameter):\n",
      "$$\n",
      "\\mu = \\frac{\\displaystyle\\sum_{i=1}^{N} x^2} {N}\n",
      "$$\n",
      "\n",
      "Sample Mean (statistic):\n",
      "$$\n",
      "{\\bar x} = \\frac{\\displaystyle\\sum_{i=1}^{n} x_i} {n}\n",
      "$$\n",
      "\n",
      "Population variance (parameter):\n",
      "$$\n",
      "\\sigma^2 = \\frac{\\displaystyle\\sum_{i=1}^{N} (x_i - \\mu)^2} {N}\n",
      "$$\n",
      "\n",
      "Sample variance estimate (statistic):\n",
      "$$\n",
      "s^2_n =  \\frac{\\displaystyle\\sum_{i=1}^{n} (x_i - {\\bar x})^2} {n}\n",
      "$$\n",
      "\n",
      "Unbiased sample variance estimate:\n",
      "$$\n",
      "s^2 = s^2_{n-1} = \\frac{\\displaystyle\\sum_{i=1}^{n} (x_i - {\\bar x})^2} {n-1}\n",
      "$$\n",
      "\n",
      "When you divide by a smaller number, e.g. n-1, you will get a larger value. If you have to guess, they are probably talking about the unbiased estimate. With a larger sample, decreasing the denominator by 1 will have a smaller effect.\n",
      "\n",
      "When using sample variance we are approaching a biased estimate:\n",
      "\n",
      "$$\n",
      "mean = {\\bar x} = \\frac{\\displaystyle\\sum_{i=1}^{n} x_i} {n} => \\\\\n",
      "\\frac{(n-1)\\sigma^2} {n} = \\sigma^2\n",
      "$$\n",
      "\n",
      "$$\n",
      "variance = s^2_{n-1} = \\frac{\\displaystyle\\sum_{i=1}^{n} (x_i - {\\bar x})^2} {n-1}\n",
      "$$"
     ]
    },
    {
     "cell_type": "markdown",
     "metadata": {},
     "source": [
      "##Variance Problem Set\n",
      "https://www.khanacademy.org/math/probability/descriptive-statistics/variance_std_deviation/e/variance\n",
      "\n",
      "###population variance"
     ]
    },
    {
     "cell_type": "code",
     "collapsed": false,
     "input": [
      "sample = [8,10,16,2,23,4]\n",
      "print '%.2f years old' % np.mean(sample)\n",
      "print '%.2f years^2' % population_variance(sample)"
     ],
     "language": "python",
     "metadata": {},
     "outputs": [
      {
       "output_type": "stream",
       "stream": "stdout",
       "text": [
        "10.50 years old\n",
        "51.25 years^2\n"
       ]
      }
     ],
     "prompt_number": 218
    },
    {
     "cell_type": "markdown",
     "metadata": {},
     "source": [
      "###unbiased variance"
     ]
    },
    {
     "cell_type": "code",
     "collapsed": false,
     "input": [
      "sample = [30,17,1,3,11]\n",
      "print '%.2f years old' % np.mean(sample)\n",
      "print '%.2f years^2' % unbiased_variance(sample)"
     ],
     "language": "python",
     "metadata": {},
     "outputs": [
      {
       "output_type": "stream",
       "stream": "stdout",
       "text": [
        "12.40 years old\n",
        "137.80 years^2\n"
       ]
      }
     ],
     "prompt_number": 216
    },
    {
     "cell_type": "markdown",
     "metadata": {},
     "source": [
      "##Statistics: Standard Deviation\n",
      "https://www.khanacademy.org/math/probability/descriptive-statistics/variance_std_deviation/v/statistics--standard-deviation"
     ]
    },
    {
     "cell_type": "code",
     "collapsed": false,
     "input": [
      "sample = [1, 2, 3, 8, 7]"
     ],
     "language": "python",
     "metadata": {},
     "outputs": [],
     "prompt_number": 142
    },
    {
     "cell_type": "markdown",
     "metadata": {},
     "source": [
      "$$\n",
      "{\\mu} = \\frac{1 + 2 + 3 + 8 + 7} {5} = 4.2\n",
      "$$\n",
      "$$\n",
      "{\\sigma^2} = \\frac{(1 - 4.2)^2 + (2 - 4.2)^2 + (3 - 4.2)^2 + (8 - 4.2)^2 + (7 - 4.2)^2} {5} = 7.76\n",
      "$$"
     ]
    },
    {
     "cell_type": "code",
     "collapsed": false,
     "input": [
      "from IPython.display import display, Math, Latex\n",
      "from sympy.printing.python import python\n",
      "import sympy as sym\n",
      "display(Math(latex('\\mu = %.2f' % np.mean(sample))))\n",
      "display(Math(latex('\\sigma^2 = %.2f' % population_variance(sample))))\n",
      "display(Math(latex('s^2_{n-1} = %.2f' % ( unbiased_variance(sample)))))"
     ],
     "language": "python",
     "metadata": {},
     "outputs": [
      {
       "latex": [
        "$$\\mu = 4.20$$"
       ],
       "output_type": "display_data",
       "text": [
        "<IPython.core.display.Math object at 0x10bea8190>"
       ]
      },
      {
       "latex": [
        "$$\\sigma^2 = 7.76$$"
       ],
       "output_type": "display_data",
       "text": [
        "<IPython.core.display.Math object at 0x10bef3b10>"
       ]
      },
      {
       "latex": [
        "$$s^2_{n-1} = 9.70$$"
       ],
       "output_type": "display_data",
       "text": [
        "<IPython.core.display.Math object at 0x10bea8190>"
       ]
      }
     ],
     "prompt_number": 215
    },
    {
     "cell_type": "markdown",
     "metadata": {},
     "source": [
      "Standard deviation is simply the square root of the variance."
     ]
    },
    {
     "cell_type": "code",
     "collapsed": false,
     "input": [
      "math.sqrt(7.76)"
     ],
     "language": "python",
     "metadata": {},
     "outputs": [
      {
       "output_type": "pyout",
       "prompt_number": 62,
       "text": [
        "2.7856776554368237"
       ]
      }
     ],
     "prompt_number": 62
    },
    {
     "cell_type": "markdown",
     "metadata": {},
     "source": [
      "##Standard Deviation Problem Set\n",
      "https://www.khanacademy.org/math/probability/descriptive-statistics/variance_std_deviation/e/standard_deviation"
     ]
    },
    {
     "cell_type": "code",
     "collapsed": false,
     "input": [
      "sample = [30,17,1,3,11]\n",
      "mean = np.mean([float(i) for i in sample])\n",
      "print '%.2f' % mean\n",
      "v = unbiased_variance([float(i) for i in sample])\n",
      "print '%.2f' % v\n",
      "print '%.2f' % math.sqrt(v)"
     ],
     "language": "python",
     "metadata": {},
     "outputs": [
      {
       "output_type": "stream",
       "stream": "stdout",
       "text": [
        "12.40\n",
        "137.80\n",
        "11.74\n"
       ]
      }
     ],
     "prompt_number": 232
    },
    {
     "cell_type": "code",
     "collapsed": false,
     "input": [
      "sample = [8,10,16,2,23,4]\n",
      "mean = np.mean([float(i) for i in sample])\n",
      "print '%.2f' % mean\n",
      "v = variance([float(i) for i in sample])\n",
      "print '%.2f' % v\n",
      "print '%.2f' % math.sqrt(v)"
     ],
     "language": "python",
     "metadata": {},
     "outputs": [
      {
       "output_type": "stream",
       "stream": "stdout",
       "text": [
        "10.50\n",
        "51.25\n",
        "7.16\n"
       ]
      }
     ],
     "prompt_number": 230
    },
    {
     "cell_type": "markdown",
     "metadata": {},
     "source": [
      "##Alternate Variance Formulas\n",
      "https://www.khanacademy.org/math/probability/descriptive-statistics/variance_std_deviation/v/statistics--alternate-variance-formulas\n",
      "\n",
      "$$\n",
      "\\begin{align*}\n",
      "\\sigma^2 = \\\\\n",
      "\\frac{\\displaystyle\\sum_{i=1}^{N} (x_i - \\mu)^2} {N} = \\\\\n",
      "\\frac{\\displaystyle\\sum_{i=1}^{N}(x_{i}^2 - 2_x{\\mu} + \\mu^2)} {N}\n",
      "\\end{align*}\n",
      "$$\n",
      "\n",
      "Now, we are just going to look at the part numerator, ignoring the N, as we simplify the equation.\n",
      "$$\n",
      "\\begin{align*}\n",
      "(x_i - \\mu)^2 = \\\\\n",
      "(x_i - \\mu)(x_i - \\mu) = \\\\\n",
      "(x_i^2 - 2\\mu{x_i} + \\mu^2)\n",
      "\\end{align*}\n",
      "$$\n",
      "\n",
      "And below we pick up again\n",
      "$$\n",
      "\\begin{align*}\n",
      "\\sigma^2 = \\\\\n",
      "\\frac{\\displaystyle\\sum_{i=1}^{N} (x_i - \\mu)^2} {N} = \\\\\n",
      "\\frac{\\displaystyle\\sum_{i=1}^{N}(x_{i}^2 - 2_x{\\mu} + \\mu^2)} {N} = \\\\\n",
      "\\frac{\\displaystyle\\sum_{i=1}^{N}x_i - 2{\\mu}\\sum_{i=1}^{N}x_i + \\mu^2\\sum_{i=1}^{N}1} {N} = \\\\\\\\\n",
      "\\frac{\\sum_{i=1}^{N}x_i^2} {N} - \\frac{2\\mu\\sum_{i=1}^{N}x_i} {N} + \\frac{\\mu^2N} {N} = \\\\\n",
      "\\frac{\\sum_{i=1}^{N}x_i^2} {N} - 2\\mu^2 + \\mu^2 = \\\\\n",
      "\\frac{\\sum_{i=1}^{N}x_i^2} {N} - \\mu^2\n",
      "\\end{align*}\n",
      "$$\n",
      "\n",
      "This is close to the \"Raw Score Method\"\n",
      "\\begin{align*}\n",
      "\\frac{\\displaystyle\\sum_{i=1}^{N}x_i^2} {N} - \\frac{\\displaystyle\\sum_{i=1}^{N}{x_i}^2} {N^2}\n",
      "\\end{align*}"
     ]
    },
    {
     "cell_type": "markdown",
     "metadata": {},
     "source": [
      "##Notes, Tests, and Experiments"
     ]
    },
    {
     "cell_type": "code",
     "collapsed": false,
     "input": [
      "display(Math(r'F(k) = \\int_{-\\infty}^{\\infty} f(x) e^{2\\pi i k} dx'))"
     ],
     "language": "python",
     "metadata": {},
     "outputs": [
      {
       "latex": [
        "$$F(k) = \\int_{-\\infty}^{\\infty} f(x) e^{2\\pi i k} dx$$"
       ],
       "output_type": "display_data",
       "text": [
        "<IPython.core.display.Math at 0x10c1c5e50>"
       ]
      }
     ],
     "prompt_number": 78
    },
    {
     "cell_type": "code",
     "collapsed": false,
     "input": [
      "from sympy.printing.python import python\n",
      "import sympy as sym\n",
      "\n",
      "x, y, z = sym.symbols(\"x y z\")\n",
      "print latex(Rational(3,2)*pi + exp(I*x) / (x**2 + y))"
     ],
     "language": "python",
     "metadata": {},
     "outputs": [
      {
       "output_type": "stream",
       "stream": "stdout",
       "text": [
        "\\frac{3}{2} \\pi + \\frac{e^{\\mathbf{\\imath} x}}{x^{2} + y}\n"
       ]
      }
     ],
     "prompt_number": 196
    },
    {
     "cell_type": "code",
     "collapsed": false,
     "input": [
      "display(Math(latex('%s^2' % sym.Symbol(\"s_n\"))))"
     ],
     "language": "python",
     "metadata": {},
     "outputs": [
      {
       "latex": [
        "$$s_n^2$$"
       ],
       "output_type": "display_data",
       "text": [
        "<IPython.core.display.Math object at 0x10bea81d0>"
       ]
      }
     ],
     "prompt_number": 199
    },
    {
     "cell_type": "code",
     "collapsed": false,
     "input": [],
     "language": "python",
     "metadata": {},
     "outputs": []
    }
   ],
   "metadata": {}
  }
 ]
}